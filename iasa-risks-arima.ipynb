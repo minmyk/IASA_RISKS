{
 "cells": [
  {
   "cell_type": "markdown",
   "metadata": {},
   "source": [
    "### Inputs"
   ]
  },
  {
   "cell_type": "code",
   "execution_count": 262,
   "metadata": {},
   "outputs": [],
   "source": [
    "import matplotlib.pyplot as plt\n",
    "import numpy as np\n",
    "import statsmodels\n",
    "from statsmodels.tsa.stattools import adfuller as DickeyFuller\n",
    "from statsmodels.tsa.stattools import pacf, acf\n",
    "import itertools\n",
    "import copy\n",
    "import statistics\n",
    "from functools import reduce\n",
    "import pandas as pd\n"
   ]
  },
  {
   "cell_type": "markdown",
   "metadata": {},
   "source": [
    "## Statistic metrics\n",
    "#### MA, MSE, R^2, Durbin-Watson, variance, k-interval, Value-at-Risk"
   ]
  },
  {
   "cell_type": "code",
   "execution_count": 604,
   "metadata": {},
   "outputs": [],
   "source": [
    "def MA(series, window = 5):\n",
    "    series = np.cumsum(series)\n",
    "    series[window:] = series[window:] - series[:-window]\n",
    "    return series[window - 1:] / window\n",
    "\n",
    "def MSE(series, predict):\n",
    "    return np.sum((series-predict)**2)/len(series)\n",
    "\n",
    "def SSE(series, predict):\n",
    "    return np.sum((series-predict)**2)\n",
    "\n",
    "def r2(predictions, y):\n",
    "    l = len(predictions)\n",
    "    avg = reduce(lambda v,w: v + w, y)/l\n",
    "    dispersion = 0\n",
    "    testDispersion = 0\n",
    "    for i in range(l):\n",
    "        dispersion += (y[i] - predictions[i])**2\n",
    "        testDispersion += (y[i] - avg)**2\n",
    "    r2 = (testDispersion/(testDispersion + dispersion)) ** 2\n",
    "    return r2  \n",
    "\n",
    "def DW(y, pred):\n",
    "    e = list(np.array(y) - np.array(pred))\n",
    "    sq = sum(list(map(lambda x: x**2, e)))\n",
    "    diff = np.array(e[1:]) - np.array(e[:-1])\n",
    "    diff = diff @ diff\n",
    "    val = diff/sq\n",
    "    return val\n",
    "\n",
    "def variance(Y, length = 0):\n",
    "    if length == 0:\n",
    "        length = len(Y)\n",
    "    if length == 1:\n",
    "        return 1\n",
    "    mean = 0\n",
    "    variance = 0\n",
    "    for i in range(len(Y)-length, len(Y)):\n",
    "        mean += Y[i]\n",
    "    mean /= length\n",
    "    for i in range(len(Y)-length,len(Y)):\n",
    "        variance += (Y[i] - mean)**2\n",
    "    variance /= (- 1 + length)\n",
    "    return variance\n",
    "\n",
    "def k(interval):\n",
    "    if interval == 0.95:\n",
    "        return 1.65      \n",
    "    elif interval == 0.99:\n",
    "        return 2.33\n",
    "    \n",
    "    else:\n",
    "        return interval\n",
    "\n",
    "\n",
    "def VaR(value, var,  alpha = 0.05, verbose = False):    \n",
    "    new_value = value*(1-np.exp(-(k(1-alpha)*var)))\n",
    "    if verbose:\n",
    "        print(new_value)\n",
    "    return k(1-alpha)*var\n",
    "\n",
    "\n",
    "def MAPE(y_true, y_pred): \n",
    "    y_true, y_pred = np.array(y_true), np.array(y_pred)\n",
    "    return np.mean(np.abs((y_true - y_pred) / y_true))\n",
    "\n",
    "\n",
    "def MAE(y_true, y_pred):\n",
    "    y_true, y_pred = np.array(y_true), np.array(y_pred)\n",
    "    return np.average(np.average(np.abs(y_true - y_pred), axis = 0))"
   ]
  },
  {
   "cell_type": "markdown",
   "metadata": {},
   "source": [
    "## ACF + PACF "
   ]
  },
  {
   "cell_type": "code",
   "execution_count": 264,
   "metadata": {},
   "outputs": [],
   "source": [
    "def define_orders(series, horizon_AR=10,horizon_MA = 10, limit=0.6, verbose = False):\n",
    "    p = 0\n",
    "    q = 0\n",
    "    for i in range(horizon_MA - 1, 0, -1):\n",
    "        if verbose:\n",
    "            print('acf ', i, ' ', abs(r(series,i)))\n",
    "            print('pacf ', i, ' ', abs(pacf_my(series,i)))\n",
    "            \n",
    "        if abs(r(series,i)) > limit and q == 0:\n",
    "            q = i\n",
    "            \n",
    "    for i in range(horizon_AR - 1, 0, -1):        \n",
    "        if abs(pacf_my(series,i)) > limit and p == 0:\n",
    "            p = i \n",
    "        \n",
    "    return p, q\n",
    "\n",
    "def r(Y, k):\n",
    "    mean = 0\n",
    "    variance = 0\n",
    "    r = 0\n",
    "    for i in range(len(Y)):\n",
    "        mean += Y[i]\n",
    "    mean /= len(Y)\n",
    "    \n",
    "    #(N-1) * variance\n",
    "    for i in range(len(Y)):\n",
    "        variance += (Y[i] - mean)**2\n",
    "    variance /= (len(Y) - 1)\n",
    "    for i in range(k, len(Y)):\n",
    "        r += (Y[i] - mean)*(Y[i - k] - mean)\n",
    "    r /= variance\n",
    "    return r / (len(Y) - 1)    \n",
    "\n",
    "def pacf_my(Y, s):\n",
    "    values = {}\n",
    "    \n",
    "    def F(k, j):\n",
    "        if((k,j) in values.keys()):\n",
    "            return values[(k,j)]\n",
    "        else:\n",
    "            if(k == 1 and j == 1):\n",
    "                f = r(Y, 1)\n",
    "            else:\n",
    "                numenator = 0\n",
    "                denumenator = 0\n",
    "\n",
    "                for i in range(1, k):\n",
    "                    numenator -= F(k - 1, i) * r(Y, k - i)\n",
    "                    denumenator -= F(k - 1, i) * r(Y, i)\n",
    "                numenator += r(Y, k)\n",
    "                denumenator += 1\n",
    "\n",
    "                f = numenator/denumenator\n",
    "\n",
    "            if(k == j):\n",
    "                values[(k, j)] = f\n",
    "                return values[(k, j)]\n",
    "            else:\n",
    "                values[(k, j)] = F(k - 1, j) - f * F(k - 1, k - j)\n",
    "                return values[(k, j)]\n",
    "                        \n",
    "    def G(k):\n",
    "        if(k == 1):\n",
    "            return r(Y, 1)\n",
    "        else:\n",
    "            numenator = 0\n",
    "            denumenator = 0\n",
    "        \n",
    "            for i in range(1, k):\n",
    "                \n",
    "                numenator -= F(k - 1, i) * r(Y, k - i)\n",
    "                denumenator -= F(k - 1, i) * r(Y, i)\n",
    "            numenator += r(Y, k)\n",
    "            denumenator += 1\n",
    "            return numenator/denumenator \n",
    "    return G(s)"
   ]
  },
  {
   "cell_type": "markdown",
   "metadata": {},
   "source": [
    "## ARIMA"
   ]
  },
  {
   "cell_type": "code",
   "execution_count": 269,
   "metadata": {},
   "outputs": [],
   "source": [
    "def ARIMA_model(series,procent = '5%', horizon_ar = 15, horizon_ma = 10, pacf_limit= 0.4, \n",
    "                window = 5,  display_last = 200, to_plot = True, verbose = False):\n",
    "    #\n",
    "    current_series = series\n",
    "    counter = 0\n",
    "    while True:\n",
    "        testDF = DickeyFuller(current_series)\n",
    "        if testDF[0] > testDF[4][procent]:#гипотеза не прошла\n",
    "            diff_series = current_series[1:] - current_series[:-1]\n",
    "            current_series = diff_series\n",
    "            counter += 1\n",
    "        else:\n",
    "            break\n",
    "            \n",
    "    if counter == 0:\n",
    "        trend_predict = np.zeros(len(series))\n",
    "        trend_coefs = []\n",
    "    else:\n",
    "        trend_data = np.array([np.power(np.arange(len(series)),i)  for i in range(counter+1)]).T\n",
    "        trend_coefs = np.linalg.lstsq(trend_data, series,rcond = -1)[0]\n",
    "        trend_predict = trend_data@trend_coefs.T\n",
    "        \n",
    "    diff = series - trend_predict\n",
    "    p, q = define_orders(diff,horizon_AR = horizon_ar, horizon_MA = horizon_ma, limit = pacf_limit)\n",
    "    if verbose:\n",
    "        print('Trend order: ', counter)\n",
    "        print('Order of AR: ', p)\n",
    "        print('Order of MA', q)\n",
    "    \n",
    "    border_AR = max(p,q + window)  \n",
    "    border_MA = border_AR - window + 1\n",
    "    data_AR = np.array([diff[border_AR - i:-i-1] for i in range(p)]).T\n",
    "    data_MA = np.array([MA(diff[border_MA - i:-i-1], window) for i in range(q)]).T\n",
    "    \n",
    "    if p == 0 and q == 0:\n",
    "        print('p and q = 0')\n",
    "        return trend_coefs, 0, 0\n",
    "    if p == 0:\n",
    "        data = data_MA \n",
    "    elif q == 0:\n",
    "        data = data_AR\n",
    "    else:\n",
    "        data = np.hstack((data_AR,data_MA))\n",
    "        \n",
    "    coefs = np.linalg.lstsq(data,diff[border_AR + 1:], rcond=-1)[0]\n",
    "    \n",
    "    if p == 0:\n",
    "        coefs_ma = coefs[p:]\n",
    "        coefs_ar = []\n",
    "    elif q == 0:\n",
    "        coefs_ma = []\n",
    "        coefs_ar = coefs[:p]\n",
    "    else:\n",
    "        coefs_ar = coefs[:p]\n",
    "        coefs_ma = coefs[p:]\n",
    "        \n",
    "    diff_predict = data@coefs.T\n",
    "    result = diff_predict + trend_predict[border_AR + 1:]\n",
    "    if False:#not to_plot:\n",
    "        plt.figure(figsize=(20,8))\n",
    "        plt.plot(diff_predict)\n",
    "        plt.plot(diff[border_AR + 1:])\n",
    "        plt.title('Approximation with ARIMA(' + str(p) + ',' + str(counter) + ',' + str(q) + ')')\n",
    "        plt.legend(['Approximation', 'Real values'])\n",
    "        \n",
    "    if to_plot:\n",
    "        plt.figure(figsize=(20,8))\n",
    "        plt.plot(result[-display_last:])\n",
    "        plt.plot(series[-display_last:])# + border_AR + 1\n",
    "        plt.title('Approximation with ARIMA(' + str(p) + ',' + str(counter) + ',' + str(q) + ')')\n",
    "        plt.legend(['Approximation', 'Real values'])\n",
    "        \n",
    "    stats = {}\n",
    "    stats['MSE'] = MSE(series[border_AR + 1:],result)            \n",
    "    stats['Mean value'] = np.sum(series[border_AR + 1:])/len(series[border_AR + 1:])   \n",
    "    stats['Median value'] = statistics.median(map(float, series[border_AR + 1:]))\n",
    "    stats['Akaike criterion'] = 2*(p+q)-2*np.log(SSE(series[border_AR + 1:],result))\n",
    "    stats['R^2'] = r2(result, series[border_AR + 1:])        \n",
    "    stats['Durbin-Watson'] = DW(series[border_AR + 1:],result) \n",
    "    return trend_coefs, coefs_ar, coefs_ma, stats\n",
    "    \n",
    "def get_trend(coef_i, dot):\n",
    "    trend = 0\n",
    "    for i in range(len(coef_i)): \n",
    "        trend +=  dot**i * coef_i[i]\n",
    "    return trend\n",
    "\n",
    "def arima_predict(series, coef_tr, coef_ar, coef_ma, window = 5):\n",
    "    #predicts 1 elem\n",
    "    p = len(coef_ar)\n",
    "    q = len(coef_ma)\n",
    "    i_trend = len(coef_tr)\n",
    "    series_v_trende = copy.copy(series)\n",
    "    forecast = list(series)\n",
    "    for i in range(len(series)):\n",
    "        series_v_trende[i] = series[i] - get_trend(coef_tr, i)\n",
    "    border_AR = max(p,q + window)  \n",
    "    border_MA = border_AR - window + 1\n",
    "    data_ma = MA(series_v_trende, window)\n",
    "    predicted = 0\n",
    "    for i in range(p):\n",
    "        predicted += coef_ar[i]*series_v_trende[-i - 1]\n",
    "    for i in range(q):\n",
    "        predicted += coef_ma[i]*data_ma[- i  - 1]\n",
    "\n",
    "    predicted += get_trend(coef_tr,len(series))\n",
    "    return predicted\n",
    "\n",
    "def ARIMA_adj_predict(data_train, data_test, pacf_lim = 0.2, verbose = False):\n",
    "    #predicts several elems using adjusted arima model every time\n",
    "    predicted_values = []\n",
    "    n = len(data_train)\n",
    "    m = len(data_test)\n",
    "    train = np.array(data_train)\n",
    "    \n",
    "    if verbose:\n",
    "        print(\"Iteration \", end = '')\n",
    "        \n",
    "    for i in range(m):\n",
    "        if verbose:\n",
    "            print(str(i+1) + \" \",end='')\n",
    "        coef_tr, coef_ar, coef_ma, stats = ARIMA_model(train, pacf_limit=pacf_lim, to_plot = False)\n",
    "        predicted_values.append(arima_predict(train, coef_tr, coef_ar, coef_ma))\n",
    "        train = np.append(train[1:],predicted_values[-1])\n",
    "    mse =  MSE(np.array(predicted_values), np.array(data_test))\n",
    "    mae = MAE(np.array(predicted_values), np.array(data_test))\n",
    "    mape = MAPE(np.array(predicted_values), np.array(data_test))\n",
    "    \n",
    "    if verbose:\n",
    "        print()\n",
    "        print(\"MSE \", mse)\n",
    "        print(\"MAE \", mae)\n",
    "        print(\"MAPE\", mape)\n",
    "    return np.array(predicted_values), np.array([mse, mae, mape])\n",
    "\n",
    "def ARIMA_multi_predict(data_train, data_test, pacf_lim = 0.2):\n",
    "    #predicts several elems using the same arima model coefs every time\n",
    "    predicted_values = []\n",
    "    n = len(data_train)\n",
    "    m = len(data_test)\n",
    "    train = np.array(data_train)\n",
    "    \n",
    "    coef_tr, coef_ar, coef_ma, stats = ARIMA_model(train, pacf_limit=pacf_lim, to_plot = False)  \n",
    "    print(\"Iteration \", end = '')\n",
    "    for i in range(m):\n",
    "        print(str(i+1) + \" \",end='')\n",
    "        predicted_values.append(arima_predict(train, coef_tr, coef_ar, coef_ma))\n",
    "        train = np.append(train[1:],predicted_values[-1])\n",
    "    print()\n",
    "    print(\"MSE \", MSE(np.array(predicted_values), np.array(data_test)))\n",
    "    print(\"MAE \", MAE(np.array(predicted_values), np.array(data_test)))\n",
    "    print(\"MAPE\", MAPE(np.array(predicted_values), np.array(data_test)))\n",
    "    return np.array(predicted_values)"
   ]
  },
  {
   "cell_type": "code",
   "execution_count": null,
   "metadata": {},
   "outputs": [],
   "source": []
  },
  {
   "cell_type": "code",
   "execution_count": null,
   "metadata": {},
   "outputs": [],
   "source": []
  },
  {
   "cell_type": "code",
   "execution_count": null,
   "metadata": {},
   "outputs": [],
   "source": []
  },
  {
   "cell_type": "code",
   "execution_count": 1,
   "metadata": {},
   "outputs": [],
   "source": [
    "import pandas_datareader.data as web\n",
    "import pandas as pd\n",
    "import numpy as np\n",
    "import matplotlib.pyplot as plt\n",
    "import gc\n",
    "import datetime    \n",
    "from hurst import compute_Hc, random_walk"
   ]
  },
  {
   "cell_type": "code",
   "execution_count": null,
   "metadata": {},
   "outputs": [],
   "source": []
  },
  {
   "cell_type": "code",
   "execution_count": null,
   "metadata": {},
   "outputs": [],
   "source": []
  },
  {
   "cell_type": "code",
   "execution_count": null,
   "metadata": {},
   "outputs": [],
   "source": []
  },
  {
   "cell_type": "code",
   "execution_count": null,
   "metadata": {},
   "outputs": [],
   "source": []
  },
  {
   "cell_type": "code",
   "execution_count": null,
   "metadata": {},
   "outputs": [],
   "source": []
  },
  {
   "cell_type": "code",
   "execution_count": null,
   "metadata": {},
   "outputs": [],
   "source": []
  },
  {
   "cell_type": "code",
   "execution_count": null,
   "metadata": {},
   "outputs": [],
   "source": []
  },
  {
   "cell_type": "code",
   "execution_count": null,
   "metadata": {},
   "outputs": [],
   "source": []
  },
  {
   "cell_type": "code",
   "execution_count": 768,
   "metadata": {},
   "outputs": [
    {
     "name": "stdout",
     "output_type": "stream",
     "text": [
      "CPU times: user 211 ms, sys: 143 ms, total: 354 ms\n",
      "Wall time: 1.39 s\n"
     ]
    }
   ],
   "source": [
    "\n",
    "%%time\n",
    "company = \"INTC\"\n",
    "start = pd.Timestamp(\"1980-03-28\")\n",
    "end = pd.Timestamp(\"2020-11-28\")\n",
    "df = pd.DataFrame(columns=['High', 'Low', 'Open', 'Close', 'Volume', 'Adj Close'])\n",
    "df = web.DataReader(company, 'yahoo', start, end)\n",
    "#df.to_csv(\"df.csv\")\n",
    "#df.info()\n",
    "\n",
    "pivot_val=\"2020-7-27\"\n",
    "pivot_test=\"2020-7-28\"\n",
    "pred_col=\"Open\"\n",
    "    \n",
    "def compute_hurst(series):\n",
    "    series = series.apply(np.exp)\n",
    "    H, c, data = compute_Hc(series, kind='change', simplified=True)\n",
    "    return H\n",
    "\n",
    "#df[\"hurst_100\"] = df[pred_col].rolling(100).apply(compute_hurst)\n",
    "df.dropna(inplace=True)\n",
    "\n",
    "_train = df[df.index < pd.Timestamp(pivot_val)]\n",
    "\n",
    "_val = df[(df.index > pd.Timestamp(pivot_val)) & (df.index < pd.Timestamp(pivot_test))]\n",
    "\n",
    "_test = df[df.index > pd.Timestamp(pivot_test)]"
   ]
  },
  {
   "cell_type": "code",
   "execution_count": 771,
   "metadata": {},
   "outputs": [],
   "source": [
    "\n",
    "y_train = np.array(_train['Open'])\n",
    "y_test = np.array(_test['Open'])\n",
    "y_all = np.append(y_train,y_test)\n",
    "n = len(y_train)\n",
    "m = len(y_test)\n"
   ]
  },
  {
   "cell_type": "code",
   "execution_count": 772,
   "metadata": {},
   "outputs": [],
   "source": [
    "def windows_walk(train, test, pacf_lim = 0.2, window = 5, train_num = 50):\n",
    "    y_all = np.append(train,test)\n",
    "    n = len(train)\n",
    "    m = len(test)\n",
    "    forecasts = []\n",
    "    statist = []\n",
    "    for i in range(m//window):\n",
    "        y_trainer = y_all[n - train_num + i*window: - m + i*window ]\n",
    "        y_tester = test[i*window:(i+1)*window ]\n",
    "        forecast, stat = ARIMA_adj_predict(y_trainer, y_tester, pacf_lim = pacf_lim)\n",
    "        forecasts.append(forecast)\n",
    "        statist.append(stat)\n",
    "        \n",
    "    return np.array(forecasts), np.array(statist)\n",
    "\n",
    "\n",
    "def var_borders(prev_data, test_for, alpha = 0.05, window = 10):\n",
    "    mean_val = []\n",
    "    gauss_val = []\n",
    "    for i in range(window):\n",
    "        mean_val.append(np.mean(np.append(prev_data,test_for[:i+1])[-window:]))\n",
    "        stand_deriviation = np.sqrt(variance(np.append(prev_data,test_for[:i+1])[-2*window:]))\n",
    "        exp_value = np.average(np.append(prev_data,test_for[:i+1])[-2*window:])\n",
    "        gauss_val.append(k(1-alpha)*stand_deriviation/exp_value)\n",
    "    \n",
    "    return np.array(mean_val), np.array(gauss_val)"
   ]
  },
  {
   "cell_type": "code",
   "execution_count": 773,
   "metadata": {},
   "outputs": [
    {
     "data": {
      "text/plain": [
       "(9.599185161760337, 2.1899424092629105, 0.042983652934558525)"
      ]
     },
     "execution_count": 773,
     "metadata": {},
     "output_type": "execute_result"
    }
   ],
   "source": [
    "np.average(statist[:,0]),np.average(statist[:,1]),np.average(statist[:,2])"
   ]
  },
  {
   "cell_type": "code",
   "execution_count": 809,
   "metadata": {},
   "outputs": [
    {
     "data": {
      "text/plain": [
       "Date\n",
       "2020-07-29    49.490002\n",
       "2020-08-12    48.669998\n",
       "2020-08-26    49.389999\n",
       "2020-09-10    50.000000\n",
       "2020-09-24    48.529999\n",
       "2020-10-08    52.910000\n",
       "2020-10-22    53.119999\n",
       "2020-11-05    46.150002\n",
       "2020-11-19    44.919998\n",
       "Name: Open, dtype: float64"
      ]
     },
     "execution_count": 809,
     "metadata": {},
     "output_type": "execute_result"
    }
   ],
   "source": [
    "_test['Open'][::10]"
   ]
  },
  {
   "cell_type": "code",
   "execution_count": 667,
   "metadata": {},
   "outputs": [
    {
     "data": {
      "text/plain": [
       "[<matplotlib.lines.Line2D at 0x7ff0c393b390>]"
      ]
     },
     "execution_count": 667,
     "metadata": {},
     "output_type": "execute_result"
    },
    {
     "data": {
      "image/png": "[encoded data removed]",
      "text/plain": [
       "<Figure size 432x288 with 1 Axes>"
      ]
     },
     "metadata": {
      "needs_background": "light"
     },
     "output_type": "display_data"
    }
   ],
   "source": [
    "plt.plot(y_all[-250:])"
   ]
  },
  {
   "cell_type": "code",
   "execution_count": 774,
   "metadata": {},
   "outputs": [],
   "source": [
    "arimas_forecast, arimas_stats = windows_walk(y_train,y_test, window = 10, train_num = 40, pacf_lim=0.25)"
   ]
  },
  {
   "cell_type": "code",
   "execution_count": 776,
   "metadata": {},
   "outputs": [
    {
     "data": {
      "text/plain": [
       "<matplotlib.legend.Legend at 0x7ff099788810>"
      ]
     },
     "execution_count": 776,
     "metadata": {},
     "output_type": "execute_result"
    },
    {
     "data": {
      "image/png": "[encoded data removed]",
      "text/plain": [
       "<Figure size 1440x360 with 1 Axes>"
      ]
     },
     "metadata": {
      "needs_background": "light"
     },
     "output_type": "display_data"
    }
   ],
   "source": [
    "windows = 10\n",
    "k = 0\n",
    "plt.figure(figsize = (20, 5))\n",
    "plt.plot(y_test[windows*(k):windows*(k+1)], label = 'real')\n",
    "plt.plot(arimas_forecast[k][:-1], label = 'pred_arima')\n",
    "plt.legend()"
   ]
  },
  {
   "cell_type": "code",
   "execution_count": null,
   "metadata": {},
   "outputs": [],
   "source": []
  },
  {
   "cell_type": "code",
   "execution_count": null,
   "metadata": {},
   "outputs": [],
   "source": []
  },
  {
   "cell_type": "code",
   "execution_count": 841,
   "metadata": {},
   "outputs": [
    {
     "data": {
      "text/plain": [
       "2.251904054441758"
      ]
     },
     "execution_count": 841,
     "metadata": {},
     "output_type": "execute_result"
    }
   ],
   "source": [
    "np.average(np.array(losses)[1:])"
   ]
  },
  {
   "cell_type": "code",
   "execution_count": 806,
   "metadata": {},
   "outputs": [
    {
     "data": {
      "text/plain": [
       "<matplotlib.legend.Legend at 0x7ff09b9653d0>"
      ]
     },
     "execution_count": 806,
     "metadata": {},
     "output_type": "execute_result"
    },
    {
     "data": {
      "image/png": "[encoded data removed]",
      "text/plain": [
       "<Figure size 1440x432 with 1 Axes>"
      ]
     },
     "metadata": {
      "needs_background": "light"
     },
     "output_type": "display_data"
    }
   ],
   "source": [
    "\n",
    "plt.figure(figsize = (20, 6))\n",
    "plt.plot(losses, label = 'Predicted losses')\n",
    "plt.plot(real_losses, label = 'Real losses')\n",
    "plt.legend()"
   ]
  },
  {
   "cell_type": "code",
   "execution_count": null,
   "metadata": {},
   "outputs": [],
   "source": []
  },
  {
   "cell_type": "code",
   "execution_count": null,
   "metadata": {},
   "outputs": [],
   "source": []
  },
  {
   "cell_type": "code",
   "execution_count": null,
   "metadata": {},
   "outputs": [],
   "source": []
  },
  {
   "cell_type": "code",
   "execution_count": null,
   "metadata": {},
   "outputs": [],
   "source": []
  },
  {
   "cell_type": "code",
   "execution_count": null,
   "metadata": {},
   "outputs": [],
   "source": []
  },
  {
   "cell_type": "code",
   "execution_count": null,
   "metadata": {},
   "outputs": [],
   "source": []
  },
  {
   "cell_type": "code",
   "execution_count": null,
   "metadata": {},
   "outputs": [],
   "source": []
  },
  {
   "cell_type": "code",
   "execution_count": null,
   "metadata": {},
   "outputs": [],
   "source": []
  },
  {
   "cell_type": "code",
   "execution_count": null,
   "metadata": {},
   "outputs": [],
   "source": []
  },
  {
   "cell_type": "code",
   "execution_count": null,
   "metadata": {},
   "outputs": [],
   "source": []
  },
  {
   "cell_type": "code",
   "execution_count": null,
   "metadata": {},
   "outputs": [],
   "source": []
  },
  {
   "cell_type": "code",
   "execution_count": null,
   "metadata": {},
   "outputs": [],
   "source": []
  }
 ],
 "metadata": {
  "kernelspec": {
   "display_name": "Python 3",
   "language": "python",
   "name": "python3"
  },
  "language_info": {
   "codemirror_mode": {
    "name": "ipython",
    "version": 3
   },
   "file_extension": ".py",
   "mimetype": "text/x-python",
   "name": "python",
   "nbconvert_exporter": "python",
   "pygments_lexer": "ipython3",
   "version": "3.7.4"
  }
 },
 "nbformat": 4,
 "nbformat_minor": 2
}
